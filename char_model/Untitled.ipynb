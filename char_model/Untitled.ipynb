{
 "cells": [
  {
   "cell_type": "code",
   "execution_count": 163,
   "metadata": {},
   "outputs": [],
   "source": [
    "import numpy as np\n",
    "import torch\n",
    "import matplotlib.pyplot as plt\n",
    "import math\n",
    "import torch.nn.functional as F"
   ]
  },
  {
   "cell_type": "code",
   "execution_count": 3,
   "metadata": {},
   "outputs": [],
   "source": [
    "words = open('names.txt','r').read().splitlines()"
   ]
  },
  {
   "cell_type": "code",
   "execution_count": 4,
   "metadata": {},
   "outputs": [
    {
     "data": {
      "text/plain": [
       "['emma',\n",
       " 'olivia',\n",
       " 'ava',\n",
       " 'isabella',\n",
       " 'sophia',\n",
       " 'charlotte',\n",
       " 'mia',\n",
       " 'amelia',\n",
       " 'harper',\n",
       " 'evelyn']"
      ]
     },
     "execution_count": 4,
     "metadata": {},
     "output_type": "execute_result"
    }
   ],
   "source": [
    "words[:10]"
   ]
  },
  {
   "cell_type": "code",
   "execution_count": 6,
   "metadata": {},
   "outputs": [
    {
     "data": {
      "text/plain": [
       "2"
      ]
     },
     "execution_count": 6,
     "metadata": {},
     "output_type": "execute_result"
    }
   ],
   "source": [
    "min(len(w) for w in words)"
   ]
  },
  {
   "cell_type": "code",
   "execution_count": 7,
   "metadata": {},
   "outputs": [
    {
     "data": {
      "text/plain": [
       "15"
      ]
     },
     "execution_count": 7,
     "metadata": {},
     "output_type": "execute_result"
    }
   ],
   "source": [
    "max(len(w) for w in words)"
   ]
  },
  {
   "cell_type": "code",
   "execution_count": 95,
   "metadata": {},
   "outputs": [],
   "source": [
    "char_set = {}\n",
    "number_set = {}\n",
    "for i,char in enumerate(sorted(set(''.join(words)))):\n",
    "    char_set[char] = i+1\n",
    "    number_set[i+1] = char\n",
    "char_set[\".\"], number_set[0] = 0, \".\""
   ]
  },
  {
   "cell_type": "code",
   "execution_count": null,
   "metadata": {},
   "outputs": [],
   "source": []
  },
  {
   "cell_type": "code",
   "execution_count": 96,
   "metadata": {},
   "outputs": [],
   "source": [
    "hash_map = torch.zeros((27,27), dtype=torch.int32)\n",
    "for w in words:\n",
    "    chars = [\".\"] + list(w) + [\".\"]\n",
    "    for ch1, ch2 in zip(chars,chars[1:]):\n",
    "        ch1,ch2 = char_set[ch1],char_set[ch2]\n",
    "        hash_map[ch1, ch2] += 1"
   ]
  },
  {
   "cell_type": "code",
   "execution_count": 57,
   "metadata": {},
   "outputs": [
    {
     "data": {
      "text/plain": [
       "<matplotlib.image.AxesImage at 0x2798c7ccbe0>"
      ]
     },
     "execution_count": 57,
     "metadata": {},
     "output_type": "execute_result"
    },
    {
     "data": {
      "image/png": "[encoded data removed]",
      "text/plain": [
       "<Figure size 432x288 with 1 Axes>"
      ]
     },
     "metadata": {
      "needs_background": "light"
     },
     "output_type": "display_data"
    }
   ],
   "source": [
    "plt.imshow(hash_map)"
   ]
  },
  {
   "cell_type": "code",
   "execution_count": 83,
   "metadata": {},
   "outputs": [
    {
     "data": {
      "text/plain": [
       "tensor([0.0000, 0.1377, 0.0408, 0.0481, 0.0528, 0.0478, 0.0130, 0.0209, 0.0273,\n",
       "        0.0184, 0.0756, 0.0925, 0.0491, 0.0792, 0.0358, 0.0123, 0.0161, 0.0029,\n",
       "        0.0512, 0.0642, 0.0408, 0.0024, 0.0117, 0.0096, 0.0042, 0.0167, 0.0290])"
      ]
     },
     "execution_count": 83,
     "metadata": {},
     "output_type": "execute_result"
    }
   ],
   "source": [
    "p = hash_map[0].float()\n",
    "p /= p.sum()\n",
    "p"
   ]
  },
  {
   "cell_type": "code",
   "execution_count": 84,
   "metadata": {},
   "outputs": [
    {
     "data": {
      "text/plain": [
       "tensor([ 3,  8, 11, 13, 11,  9,  1, 13, 18, 13, 18, 13,  5, 15, 25,  1, 19, 22,\n",
       "         8, 10])"
      ]
     },
     "execution_count": 84,
     "metadata": {},
     "output_type": "execute_result"
    }
   ],
   "source": [
    "q = torch.Generator().manual_seed(23452345)\n",
    "\n",
    "torch.multinomial(p,num_samples=20, replacement=True, generator=q)"
   ]
  },
  {
   "cell_type": "code",
   "execution_count": 145,
   "metadata": {},
   "outputs": [],
   "source": [
    "P = (hash_map+1).float()\n",
    "P /= P.sum(1,keepdim=True)"
   ]
  },
  {
   "cell_type": "code",
   "execution_count": 146,
   "metadata": {},
   "outputs": [
    {
     "name": "stdout",
     "output_type": "stream",
     "text": [
      "bre.\n",
      "razee.\n",
      "dahiahakabe.\n",
      "maigsushen.\n",
      "jammah.\n"
     ]
    }
   ],
   "source": [
    "## BRODCASTING RULES\n",
    "q = torch.Generator().manual_seed(2345234545)\n",
    "ix = 0\n",
    "for i in range(5):\n",
    "    out = []\n",
    "    while True:\n",
    "        ## trained model\n",
    "        p = hash_map[ix].float()\n",
    "        p /= p.sum()\n",
    "        p = P[ix]\n",
    "        ## untrained model\n",
    "        pp = torch.ones(27)/27\n",
    "        ix = torch.multinomial(p,num_samples=1, replacement=True, generator=q).item()\n",
    "        out.append(number_set[ix])\n",
    "        if ix == 0:\n",
    "            break\n",
    "    print(\"\".join(out))"
   ]
  },
  {
   "cell_type": "code",
   "execution_count": 152,
   "metadata": {},
   "outputs": [
    {
     "name": "stdout",
     "output_type": "stream",
     "text": [
      "neg_log_like/n = 2.290574737491098\n"
     ]
    }
   ],
   "source": [
    "neg_log_like=  0.0\n",
    "n=0\n",
    "for w in [\"lame\"]:\n",
    "    chars = [\".\"] + list(w) + [\".\"]\n",
    "    for ch1, ch2 in zip(chars,chars[1:]):\n",
    "        ix1,ix2 = char_set[ch1],char_set[ch2]\n",
    "        prob = P[ix1,ix2]\n",
    "        neg_log_like += -math.log(prob)\n",
    "        n+=1\n",
    "        #print(f\"{ch1}{ch2} : {-math.log(prob) =: .4f}\")\n",
    "print(f\"{neg_log_like/n = }\")"
   ]
  },
  {
   "cell_type": "code",
   "execution_count": 191,
   "metadata": {},
   "outputs": [],
   "source": [
    "## create the training set\n",
    "xs,ys = [],[]\n",
    "for w in words[:1]:\n",
    "    chars = [\".\"] + list(w) + [\".\"]\n",
    "    for ch1, ch2 in zip(chars,chars[1:]):\n",
    "        ix1,ix2 = char_set[ch1],char_set[ch2]\n",
    "        xs.append(ix1)\n",
    "        ys.append(ix2)\n",
    "xs = torch.tensor(xs)\n",
    "ys = torch.tensor(ys)"
   ]
  },
  {
   "cell_type": "code",
   "execution_count": 192,
   "metadata": {},
   "outputs": [
    {
     "data": {
      "text/plain": [
       "(tensor([ 0,  5, 13, 13,  1]), tensor([ 5, 13, 13,  1,  0]))"
      ]
     },
     "execution_count": 192,
     "metadata": {},
     "output_type": "execute_result"
    }
   ],
   "source": [
    "xs,ys"
   ]
  },
  {
   "cell_type": "code",
   "execution_count": 193,
   "metadata": {},
   "outputs": [
    {
     "data": {
      "text/plain": [
       "tensor([[1., 0., 0., 0., 0., 0., 0., 0., 0., 0., 0., 0., 0., 0., 0., 0., 0., 0.,\n",
       "         0., 0., 0., 0., 0., 0., 0., 0., 0.],\n",
       "        [0., 0., 0., 0., 0., 1., 0., 0., 0., 0., 0., 0., 0., 0., 0., 0., 0., 0.,\n",
       "         0., 0., 0., 0., 0., 0., 0., 0., 0.],\n",
       "        [0., 0., 0., 0., 0., 0., 0., 0., 0., 0., 0., 0., 0., 1., 0., 0., 0., 0.,\n",
       "         0., 0., 0., 0., 0., 0., 0., 0., 0.],\n",
       "        [0., 0., 0., 0., 0., 0., 0., 0., 0., 0., 0., 0., 0., 1., 0., 0., 0., 0.,\n",
       "         0., 0., 0., 0., 0., 0., 0., 0., 0.],\n",
       "        [0., 1., 0., 0., 0., 0., 0., 0., 0., 0., 0., 0., 0., 0., 0., 0., 0., 0.,\n",
       "         0., 0., 0., 0., 0., 0., 0., 0., 0.]])"
      ]
     },
     "execution_count": 193,
     "metadata": {},
     "output_type": "execute_result"
    }
   ],
   "source": [
    "xenc = F.one_hot(xs,num_classes=27).float()\n",
    "xenc"
   ]
  },
  {
   "cell_type": "code",
   "execution_count": 181,
   "metadata": {},
   "outputs": [],
   "source": [
    "w = torch.randn(27,27)\n",
    "logits = (xenc @ w)\n",
    "## softmax --> \n",
    "counts = logits.exp()\n",
    "probs = counts / counts.sum(1,keepdim=True)"
   ]
  },
  {
   "cell_type": "code",
   "execution_count": 186,
   "metadata": {},
   "outputs": [
    {
     "data": {
      "text/plain": [
       "tensor([[0.0096, 0.0097, 0.0809, 0.0104, 0.0163, 0.0184, 0.0167, 0.0037, 0.0210,\n",
       "         0.0268, 0.0778, 0.0134, 0.0175, 0.0335, 0.1538, 0.0362, 0.0057, 0.0018,\n",
       "         0.0083, 0.0745, 0.1516, 0.0287, 0.0260, 0.0535, 0.0282, 0.0198, 0.0563],\n",
       "        [0.0084, 0.0081, 0.0162, 0.0113, 0.0205, 0.0888, 0.0298, 0.0092, 0.0471,\n",
       "         0.0032, 0.0060, 0.0529, 0.0656, 0.2540, 0.0437, 0.0532, 0.0092, 0.0307,\n",
       "         0.0138, 0.0221, 0.0072, 0.0068, 0.0160, 0.0083, 0.0049, 0.0091, 0.1538],\n",
       "        [0.0089, 0.0014, 0.0176, 0.0131, 0.0083, 0.0046, 0.0106, 0.0228, 0.0050,\n",
       "         0.0250, 0.0252, 0.0033, 0.0220, 0.0256, 0.0528, 0.0105, 0.0336, 0.1218,\n",
       "         0.0039, 0.1832, 0.0147, 0.0017, 0.0168, 0.0008, 0.0057, 0.0578, 0.3032],\n",
       "        [0.0089, 0.0014, 0.0176, 0.0131, 0.0083, 0.0046, 0.0106, 0.0228, 0.0050,\n",
       "         0.0250, 0.0252, 0.0033, 0.0220, 0.0256, 0.0528, 0.0105, 0.0336, 0.1218,\n",
       "         0.0039, 0.1832, 0.0147, 0.0017, 0.0168, 0.0008, 0.0057, 0.0578, 0.3032],\n",
       "        [0.0851, 0.0085, 0.0751, 0.0043, 0.0450, 0.0168, 0.0643, 0.0137, 0.0163,\n",
       "         0.0282, 0.0137, 0.0770, 0.0973, 0.0033, 0.1154, 0.0255, 0.0122, 0.0203,\n",
       "         0.0243, 0.0444, 0.0356, 0.0566, 0.0364, 0.0109, 0.0046, 0.0490, 0.0163]])"
      ]
     },
     "execution_count": 186,
     "metadata": {},
     "output_type": "execute_result"
    }
   ],
   "source": [
    "probs"
   ]
  },
  {
   "cell_type": "code",
   "execution_count": null,
   "metadata": {},
   "outputs": [],
   "source": []
  },
  {
   "cell_type": "code",
   "execution_count": null,
   "metadata": {},
   "outputs": [],
   "source": []
  }
 ],
 "metadata": {
  "kernelspec": {
   "display_name": "Python 3",
   "language": "python",
   "name": "python3"
  },
  "language_info": {
   "codemirror_mode": {
    "name": "ipython",
    "version": 3
   },
   "file_extension": ".py",
   "mimetype": "text/x-python",
   "name": "python",
   "nbconvert_exporter": "python",
   "pygments_lexer": "ipython3",
   "version": "3.8.6"
  }
 },
 "nbformat": 4,
 "nbformat_minor": 4
}
